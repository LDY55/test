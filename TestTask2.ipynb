{
  "nbformat": 4,
  "nbformat_minor": 0,
  "metadata": {
    "colab": {
      "name": "TestTask2.ipynb",
      "provenance": [],
      "collapsed_sections": [],
      "authorship_tag": "ABX9TyNnyHTkF9U+AD+srDJ/8wSk",
      "include_colab_link": true
    },
    "kernelspec": {
      "name": "python3",
      "display_name": "Python 3"
    },
    "language_info": {
      "name": "python"
    }
  },
  "cells": [
    {
      "cell_type": "markdown",
      "metadata": {
        "id": "view-in-github",
        "colab_type": "text"
      },
      "source": [
        "<a href=\"https://colab.research.google.com/github/LDY55/test/blob/main/TestTask2.ipynb\" target=\"_parent\"><img src=\"https://colab.research.google.com/assets/colab-badge.svg\" alt=\"Open In Colab\"/></a>"
      ]
    },
    {
      "cell_type": "markdown",
      "metadata": {
        "id": "bN5nte3TPLPt"
      },
      "source": [
        "Одним из ключевых навыков ассиетнта является возможность совершать покупки и переводы, поэтому необходимо обратить внмание на следующие характеристики: \n",
        "1. Скорость распознания запроса \n",
        "2. Точность соответствия\n",
        "3. Скорость отклика\n",
        "\n",
        "Для вовлечения большего числа пользователей асситент должен быть более интерактивным, а значит необходимы навыки связаные с различными формами игр и общении. Так как Сбер располагает одной из самых больших моделей обученных на GPT-3 то возможо добавить игру на подобие Акинатора, преимущество же будет в том, что обученная модель может предлагать не только заготовленные ответы, но воспринимать комментарии. В навыках связанных с играми стоит обратить внимание на следующие параметры: \n",
        "1. Вовлеченность (сколько времени пользователь провёл в приложении)\n",
        "2. Соответствие ожиданиям (насколько ассистент адекватен пользователю)\n",
        "3. Целевые действия \n",
        "\n",
        "Поскольку ассисент является частью экосистемы Сбер, а значит пользуются им люди разных возрастов, а это значит что асситент должен быть \"на одной волне\" с пользователем. Для нывыка \"на одной волне\" необходимо отследить следующие характеристики: \n",
        "1. Способ ввода запросов \n",
        "2. Скорость ввода запроса (если ручной)\n",
        "3. Соответствие запросу (влияет на вовлеченность)\n",
        "4. Вовлеченность \n",
        "5. Удовлетворенность результатом (соответствие запросов и результатов)\n",
        "\n",
        "\n",
        "---\n",
        "\n"
      ]
    },
    {
      "cell_type": "markdown",
      "metadata": {
        "id": "hcnIAdZOgKJR"
      },
      "source": [
        "Работа с данными\n"
      ]
    },
    {
      "cell_type": "code",
      "metadata": {
        "id": "yvJZ_6b_DntY"
      },
      "source": [
        "import pandas as pd\n",
        "import numpy as np\n",
        "import matplotlib.pyplot as plt"
      ],
      "execution_count": 10,
      "outputs": []
    },
    {
      "cell_type": "code",
      "metadata": {
        "id": "qtId1Mq7Hl9X"
      },
      "source": [
        "df = pd.read_csv('1.csv', delimiter=';', encoding='utf-8') #считываем файл выгрузки \n",
        "\n",
        "data = df[df['dp_project']=='video'][:1000] #получим данные с выборкой по сценарию видео\n",
        "data['dp_query'].to_csv('output_dp_query_video.csv', index = False) #выгрузим запросы в файл"
      ],
      "execution_count": 11,
      "outputs": []
    },
    {
      "cell_type": "markdown",
      "metadata": {
        "id": "OsIlbpraUbrk"
      },
      "source": [
        "10 самых популярных сценариев"
      ]
    },
    {
      "cell_type": "code",
      "metadata": {
        "colab": {
          "base_uri": "https://localhost:8080/"
        },
        "id": "A1-mS-PBmtZr",
        "outputId": "da186862-eb73-4313-a6e3-3081c302022e"
      },
      "source": [
        "df['dp_project'].value_counts()[1:10]"
      ],
      "execution_count": 12,
      "outputs": [
        {
          "output_type": "execute_result",
          "data": {
            "text/plain": [
              "youtube                                 1729\n",
              "Axon                                    1642\n",
              "Музыка                                  1237\n",
              "Выбор персонажа                          409\n",
              "Хранитель Слов                           407\n",
              "Погода                                   407\n",
              "790ceaf2-f4ae-4700-9d17-2b893a226539     363\n",
              "Заказ продуктов                          332\n",
              "Города                                   307\n",
              "Name: dp_project, dtype: int64"
            ]
          },
          "metadata": {
            "tags": []
          },
          "execution_count": 12
        }
      ]
    },
    {
      "cell_type": "code",
      "metadata": {
        "colab": {
          "base_uri": "https://localhost:8080/"
        },
        "id": "jz4lseGhRtRi",
        "outputId": "156dfc9e-eeb5-4a1e-ab5b-d0f32ba45505"
      },
      "source": [
        "c = df['dp_project'].value_counts()[1:10].keys().tolist() #получим 10 самых популярнных запросов в виде списка\n",
        "print (c)"
      ],
      "execution_count": 13,
      "outputs": [
        {
          "output_type": "stream",
          "text": [
            "['youtube', 'Axon', 'Музыка', 'Выбор персонажа', 'Хранитель Слов', 'Погода', '790ceaf2-f4ae-4700-9d17-2b893a226539', 'Заказ продуктов', 'Города']\n"
          ],
          "name": "stdout"
        }
      ]
    },
    {
      "cell_type": "code",
      "metadata": {
        "id": "PsNkRv6IXSOs"
      },
      "source": [
        "for i in c: #выгрузим 10 популярных запросов в файлы\n",
        "  data = df[df['dp_project']==f'{i}'][:1000]\n",
        "  data['dp_query'].to_csv(f'output_dp_query_{i}.csv', index = False) "
      ],
      "execution_count": 14,
      "outputs": []
    },
    {
      "cell_type": "markdown",
      "metadata": {
        "id": "NS8EJBZRECFC"
      },
      "source": [
        "Строим гистограмму времени исполнения запроса"
      ]
    },
    {
      "cell_type": "code",
      "metadata": {
        "colab": {
          "base_uri": "https://localhost:8080/",
          "height": 204
        },
        "id": "6CQiqAKq6ypv",
        "outputId": "8463f80d-b735-42d6-cb51-1fd2ddba8279"
      },
      "source": [
        "new_data = pd.to_numeric(df['duration'], errors='coerce')\n",
        "\n",
        "bins = [-1, 500, 1000, 1500, 2000, np.inf]\n",
        "labels=['0-500','500-1000','1000-1500', '1500-2000', '2000-2500']\n",
        "df_duration=new_data.groupby(pd.cut(new_data, bins=bins, labels=labels)).size().reset_index(name='count')\n",
        "df_duration.head()"
      ],
      "execution_count": 15,
      "outputs": [
        {
          "output_type": "execute_result",
          "data": {
            "text/html": [
              "<div>\n",
              "<style scoped>\n",
              "    .dataframe tbody tr th:only-of-type {\n",
              "        vertical-align: middle;\n",
              "    }\n",
              "\n",
              "    .dataframe tbody tr th {\n",
              "        vertical-align: top;\n",
              "    }\n",
              "\n",
              "    .dataframe thead th {\n",
              "        text-align: right;\n",
              "    }\n",
              "</style>\n",
              "<table border=\"1\" class=\"dataframe\">\n",
              "  <thead>\n",
              "    <tr style=\"text-align: right;\">\n",
              "      <th></th>\n",
              "      <th>duration</th>\n",
              "      <th>count</th>\n",
              "    </tr>\n",
              "  </thead>\n",
              "  <tbody>\n",
              "    <tr>\n",
              "      <th>0</th>\n",
              "      <td>0-500</td>\n",
              "      <td>4495</td>\n",
              "    </tr>\n",
              "    <tr>\n",
              "      <th>1</th>\n",
              "      <td>500-1000</td>\n",
              "      <td>13748</td>\n",
              "    </tr>\n",
              "    <tr>\n",
              "      <th>2</th>\n",
              "      <td>1000-1500</td>\n",
              "      <td>2200</td>\n",
              "    </tr>\n",
              "    <tr>\n",
              "      <th>3</th>\n",
              "      <td>1500-2000</td>\n",
              "      <td>486</td>\n",
              "    </tr>\n",
              "    <tr>\n",
              "      <th>4</th>\n",
              "      <td>2000-2500</td>\n",
              "      <td>188</td>\n",
              "    </tr>\n",
              "  </tbody>\n",
              "</table>\n",
              "</div>"
            ],
            "text/plain": [
              "    duration  count\n",
              "0      0-500   4495\n",
              "1   500-1000  13748\n",
              "2  1000-1500   2200\n",
              "3  1500-2000    486\n",
              "4  2000-2500    188"
            ]
          },
          "metadata": {
            "tags": []
          },
          "execution_count": 15
        }
      ]
    },
    {
      "cell_type": "code",
      "metadata": {
        "colab": {
          "base_uri": "https://localhost:8080/",
          "height": 279
        },
        "id": "VipwsnCk-l8T",
        "outputId": "ea48c743-d62b-4b4e-bb1d-d317cc9b95ab"
      },
      "source": [
        "index = df_duration['duration']\n",
        "values = df_duration['count']\n",
        "plt.bar(index,values)\n",
        "plt.xlabel(\"Время исполнения запроса\")\n",
        "plt.ylabel(\"Количество запросов\")\n",
        "plt.show()\n"
      ],
      "execution_count": 16,
      "outputs": [
        {
          "output_type": "display_data",
          "data": {
            "image/png": "[encoded data removed]",
            "text/plain": [
              "<Figure size 432x288 with 1 Axes>"
            ]
          },
          "metadata": {
            "tags": [],
            "needs_background": "light"
          }
        }
      ]
    }
  ]
}